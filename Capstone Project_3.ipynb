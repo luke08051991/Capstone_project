{
    "cells": [
        {
            "cell_type": "code",
            "execution_count": 9,
            "metadata": {},
            "outputs": [
                {
                    "name": "stdout",
                    "output_type": "stream",
                    "text": "Collecting xlrd==1.2.0\n  Downloading xlrd-1.2.0-py2.py3-none-any.whl (103 kB)\n\u001b[K     |\u2588\u2588\u2588\u2588\u2588\u2588\u2588\u2588\u2588\u2588\u2588\u2588\u2588\u2588\u2588\u2588\u2588\u2588\u2588\u2588\u2588\u2588\u2588\u2588\u2588\u2588\u2588\u2588\u2588\u2588\u2588\u2588| 103 kB 19.5 MB/s eta 0:00:01\n\u001b[?25hInstalling collected packages: xlrd\n  Attempting uninstall: xlrd\n    Found existing installation: xlrd 2.0.1\n    Uninstalling xlrd-2.0.1:\n      Successfully uninstalled xlrd-2.0.1\nSuccessfully installed xlrd-1.2.0\n"
                }
            ],
            "source": "import pandas as pd\nfrom bs4 import BeautifulSoup\nimport requests\nimport numpy as np\n#!!conda install -c conda-forge folium=0.5.0 --yes\nimport folium # map rendering library\nimport math\nimport matplotlib.cm as cm\nimport matplotlib.colors as colors\n!pip install xlrd==1.2.0\n#https://www1.nyc.gov/site/nypd/stats/crime-statistics/park-crime-stats.page"
        },
        {
            "cell_type": "markdown",
            "metadata": {},
            "source": " ## Data downloads"
        },
        {
            "cell_type": "code",
            "execution_count": 12,
            "metadata": {},
            "outputs": [],
            "source": "!wget -q -O 'url.xlsx' = 'https://www1.nyc.gov/assets/nypd/downloads/excel/crime_statistics/park-crime/nyc-park-crime-stats-q1-2015.xlsx'\ncrime_data_q1_2015 = pd.read_excel('url.xlsx', engine= 'openpyxl')\n!wget -q -O 'url.xlsx' = 'https://www1.nyc.gov/assets/nypd/downloads/excel/crime_statistics/park-crime/nyc-park-crime-stats-q1-2016.xlsx'\ncrime_data_q1_2016 = pd.read_excel('url.xlsx', engine= 'openpyxl')\n!wget -q -O 'url.xlsx' = 'https://www1.nyc.gov/assets/nypd/downloads/excel/crime_statistics/park-crime/nyc-park-crime-stats-q1-2017.xlsx'\ncrime_data_q1_2017 = pd.read_excel('url.xlsx', engine= 'openpyxl')\n!wget -q -O 'url.xlsx' = 'https://www1.nyc.gov/assets/nypd/downloads/excel/crime_statistics/park-crime/nyc-park-crime-stats-q1-2018.xlsx'\ncrime_data_q1_2018 = pd.read_excel('url.xlsx', engine= 'openpyxl')\n!wget -q -O 'url.xlsx' = 'https://www1.nyc.gov/assets/nypd/downloads/excel/crime_statistics/park-crime/nyc-park-crime-stats-q1-2019.xlsx'\ncrime_data_q1_2019 = pd.read_excel('url.xlsx', engine= 'openpyxl')\n!wget -q -O 'url.xlsx' = 'https://www1.nyc.gov/assets/nypd/downloads/excel/crime_statistics/park-crime/nyc-park-crime-stats-q1-2020a.xlsx'\ncrime_data_q1_2020 = pd.read_excel('url.xlsx', engine= 'openpyxl')\n!wget -q -O 'url.xlsx' = 'https://www1.nyc.gov/assets/nypd/downloads/excel/crime_statistics/park-crime/nyc-park-crime-stats-q2-2015.xlsx'\ncrime_data_q2_2015 = pd.read_excel('url.xlsx', engine= 'openpyxl')\n!wget -q -O 'url.xlsx' = 'https://www1.nyc.gov/assets/nypd/downloads/excel/crime_statistics/park-crime/nyc-park-crime-stats-q2-2016.xlsx'\ncrime_data_q2_2016 = pd.read_excel('url.xlsx', engine= 'openpyxl')\n!wget -q -O 'url.xlsx' = 'https://www1.nyc.gov/assets/nypd/downloads/excel/crime_statistics/park-crime/nyc-park-crime-stats-q2-2017.xlsx'\ncrime_data_q2_2017 = pd.read_excel('url.xlsx', engine= 'openpyxl')\n!wget -q -O 'url.xlsx' = 'https://www1.nyc.gov/assets/nypd/downloads/excel/crime_statistics/park-crime/nyc-park-crime-stats-q2-2018.xlsx'\ncrime_data_q2_2018 = pd.read_excel('url.xlsx', engine= 'openpyxl')\n!wget -q -O 'url.xlsx' = 'https://www1.nyc.gov/assets/nypd/downloads/excel/crime_statistics/park-crime/nyc-park-crime-stats-q2-2019.xlsx'\ncrime_data_q2_2019 = pd.read_excel('url.xlsx', engine= 'openpyxl')\n!wget -q -O 'url.xlsx' = 'https://www1.nyc.gov/assets/nypd/downloads/excel/crime_statistics/park-crime/nyc-park-crime-stats-q2-2020.xlsx'\ncrime_data_q2_2020 = pd.read_excel('url.xlsx', engine= 'openpyxl')\n!wget -q -O 'url.xlsx' = 'https://www1.nyc.gov/assets/nypd/downloads/excel/crime_statistics/park-crime/nyc-park-crime-stats-q3-2015.xlsx'\ncrime_data_q3_2015 = pd.read_excel('url.xlsx', engine= 'openpyxl')\n!wget -q -O 'url.xlsx' = 'https://www1.nyc.gov/assets/nypd/downloads/excel/crime_statistics/park-crime/nyc-park-crime-stats-q3-2016.xlsx'\ncrime_data_q3_2016 = pd.read_excel('url.xlsx', engine= 'openpyxl')\n!wget -q -O 'url.xlsx' = 'https://www1.nyc.gov/assets/nypd/downloads/excel/crime_statistics/park-crime/nyc-park-crime-stats-q3-2017.xlsx'\ncrime_data_q3_2017 = pd.read_excel('url.xlsx', engine= 'openpyxl')\n!wget -q -O 'url.xlsx' = 'https://www1.nyc.gov/assets/nypd/downloads/excel/crime_statistics/park-crime/nyc-park-crime-stats-q3-2018.xlsx'\ncrime_data_q3_2018 = pd.read_excel('url.xlsx', engine= 'openpyxl')\n!wget -q -O 'url.xlsx' = 'https://www1.nyc.gov/assets/nypd/downloads/excel/crime_statistics/park-crime/nyc-park-crime-stats-q3-2019.xlsx'\ncrime_data_q3_2019 = pd.read_excel('url.xlsx', engine= 'openpyxl')\n!wget -q -O 'url.xlsx' = 'https://www1.nyc.gov/assets/nypd/downloads/excel/crime_statistics/park-crime/nyc-park-crime-stats-q3-2020.xlsx'\ncrime_data_q3_2020 = pd.read_excel('url.xlsx', engine= 'openpyxl')\n!wget -q -O 'url.xlsx' = 'https://www1.nyc.gov/assets/nypd/downloads/excel/crime_statistics/park-crime/nyc-park-crime-stats-q4-2015.xlsx'\ncrime_data_q4_2015 = pd.read_excel('url.xlsx', engine= 'openpyxl')\n!wget -q -O 'url.xlsx' = 'https://www1.nyc.gov/assets/nypd/downloads/excel/crime_statistics/park-crime/nyc-park-crime-stats-q4-2016.xlsx'\ncrime_data_q4_2016 = pd.read_excel('url.xlsx', engine= 'openpyxl')\n!wget -q -O 'url.xlsx' = 'https://www1.nyc.gov/assets/nypd/downloads/excel/crime_statistics/park-crime/nyc-park-crime-stats-q4-2017.xlsx'\ncrime_data_q4_2017 = pd.read_excel('url.xlsx', engine= 'openpyxl')\n!wget -q -O 'url.xlsx' = 'https://www1.nyc.gov/assets/nypd/downloads/excel/crime_statistics/park-crime/nyc-park-crime-stats-q4-2018.xlsx'\ncrime_data_q4_2018 = pd.read_excel('url.xlsx', engine= 'openpyxl')\n!wget -q -O 'url.xlsx' = 'https://www1.nyc.gov/assets/nypd/downloads/excel/crime_statistics/park-crime/nyc-park-crime-stats-q4-2019.xlsx'\ncrime_data_q4_2019 = pd.read_excel('url.xlsx', engine= 'openpyxl')\n!wget -q -O 'url.xlsx' = 'https://www1.nyc.gov/assets/nypd/downloads/excel/crime_statistics/park-crime/nyc-park-crime-stats-q4-2020.xlsx'\ncrime_data_q4_2020 = pd.read_excel('url.xlsx', engine= 'openpyxl')"
        },
        {
            "cell_type": "markdown",
            "metadata": {},
            "source": "## DataFrame pre-processing"
        },
        {
            "cell_type": "code",
            "execution_count": 15,
            "metadata": {},
            "outputs": [
                {
                    "ename": "KeyError",
                    "evalue": "'crime_data_2015'",
                    "output_type": "error",
                    "traceback": [
                        "\u001b[0;31m---------------------------------------------------------------------------\u001b[0m",
                        "\u001b[0;31mKeyError\u001b[0m                                  Traceback (most recent call last)",
                        "\u001b[0;32m<ipython-input-15-a0ef8d019bb1>\u001b[0m in \u001b[0;36m<module>\u001b[0;34m\u001b[0m\n\u001b[1;32m      1\u001b[0m \u001b[0;32mfor\u001b[0m \u001b[0mi\u001b[0m \u001b[0;32min\u001b[0m \u001b[0mrange\u001b[0m\u001b[0;34m(\u001b[0m\u001b[0;36m1\u001b[0m\u001b[0;34m,\u001b[0m\u001b[0;36m5\u001b[0m\u001b[0;34m)\u001b[0m\u001b[0;34m:\u001b[0m\u001b[0;34m\u001b[0m\u001b[0;34m\u001b[0m\u001b[0m\n\u001b[1;32m      2\u001b[0m     \u001b[0;32mfor\u001b[0m \u001b[0mj\u001b[0m \u001b[0;32min\u001b[0m \u001b[0mrange\u001b[0m\u001b[0;34m(\u001b[0m\u001b[0;36m2015\u001b[0m\u001b[0;34m,\u001b[0m\u001b[0;36m2021\u001b[0m\u001b[0;34m)\u001b[0m\u001b[0;34m:\u001b[0m\u001b[0;34m\u001b[0m\u001b[0;34m\u001b[0m\u001b[0m\n\u001b[0;32m----> 3\u001b[0;31m         \u001b[0mglobals\u001b[0m\u001b[0;34m(\u001b[0m\u001b[0;34m)\u001b[0m\u001b[0;34m[\u001b[0m\u001b[0;34m\"crime_data_{}_{}\"\u001b[0m\u001b[0;34m.\u001b[0m\u001b[0mformat\u001b[0m\u001b[0;34m(\u001b[0m\u001b[0mi\u001b[0m\u001b[0;34m,\u001b[0m\u001b[0mj\u001b[0m\u001b[0;34m)\u001b[0m\u001b[0;34m]\u001b[0m\u001b[0;34m=\u001b[0m\u001b[0mglobals\u001b[0m\u001b[0;34m(\u001b[0m\u001b[0;34m)\u001b[0m\u001b[0;34m[\u001b[0m\u001b[0;34m\"crime_data_{}\"\u001b[0m\u001b[0;34m.\u001b[0m\u001b[0mformat\u001b[0m\u001b[0;34m(\u001b[0m\u001b[0mj\u001b[0m\u001b[0;34m)\u001b[0m\u001b[0;34m]\u001b[0m\u001b[0;34m.\u001b[0m\u001b[0mjoin\u001b[0m\u001b[0;34m(\u001b[0m\u001b[0;34m[\u001b[0m\u001b[0mlat\u001b[0m\u001b[0;34m,\u001b[0m\u001b[0mlon\u001b[0m\u001b[0;34m]\u001b[0m\u001b[0;34m)\u001b[0m\u001b[0;34m.\u001b[0m\u001b[0mdropna\u001b[0m\u001b[0;34m(\u001b[0m\u001b[0;34m)\u001b[0m\u001b[0;34m.\u001b[0m\u001b[0mreset_index\u001b[0m\u001b[0;34m(\u001b[0m\u001b[0mdrop\u001b[0m\u001b[0;34m=\u001b[0m\u001b[0;32mTrue\u001b[0m\u001b[0;34m)\u001b[0m\u001b[0;34m\u001b[0m\u001b[0;34m\u001b[0m\u001b[0m\n\u001b[0m\u001b[1;32m      4\u001b[0m \u001b[0;32mfor\u001b[0m \u001b[0mi\u001b[0m \u001b[0;32min\u001b[0m \u001b[0mrange\u001b[0m\u001b[0;34m(\u001b[0m\u001b[0;36m1\u001b[0m\u001b[0;34m,\u001b[0m\u001b[0;36m5\u001b[0m\u001b[0;34m)\u001b[0m\u001b[0;34m:\u001b[0m\u001b[0;34m\u001b[0m\u001b[0;34m\u001b[0m\u001b[0m\n\u001b[1;32m      5\u001b[0m     \u001b[0;32mfor\u001b[0m \u001b[0mj\u001b[0m \u001b[0;32min\u001b[0m \u001b[0mrange\u001b[0m\u001b[0;34m(\u001b[0m\u001b[0;36m2016\u001b[0m\u001b[0;34m,\u001b[0m\u001b[0;36m2021\u001b[0m\u001b[0;34m)\u001b[0m\u001b[0;34m:\u001b[0m\u001b[0;34m\u001b[0m\u001b[0;34m\u001b[0m\u001b[0m\n",
                        "\u001b[0;31mKeyError\u001b[0m: 'crime_data_2015'"
                    ]
                }
            ],
            "source": "for i in range(1,5):\n    for j in range(2015,2021):\n        globals()[\"crime_data_{}_{}\".format(i,j)]=globals()[\"crime_data_{}\".format(j)].join([lat,lon]).dropna().reset_index(drop=True)\nfor i in range(1,5):\n    for j in range(2016,2021):\n        \n        if i==2 and j==2018:\n            pass\n        else:\n            globals()[\"crime_data_q{}_{}\".format(i,j)]=globals()[\"crime_data_q{}_{}\".format(i,j)].rename(columns=globals()[\"crime_data_q{}_{}\".format(i,j)].iloc[2]).drop(index=[0,1,2], axis=0)\n            \n\nfor i in range(1,4):\n    globals()[\"crime_data_q{}_{}\".format(i,2015)]=globals()[\"crime_data_q{}_{}\".format(i,2015)].rename(columns=globals()[\"crime_data_q{}_{}\".format(i,2015)].iloc[3]).drop(index=[0,1,2,3], axis=0)\n    \n    \nglobals()[\"crime_data_q{}_{}\".format(4,2015)]=globals()[\"crime_data_q{}_{}\".format(4,2015)].rename(columns=globals()[\"crime_data_q{}_{}\".format(4,2015)].iloc[2]).drop(index=[0,1,2], axis=0)\n\nglobals()[\"crime_data_q{}_{}\".format(2,2018)]=globals()[\"crime_data_q{}_{}\".format(2,2018)].rename(columns=globals()[\"crime_data_q{}_{}\".format(2,2018)].iloc[3]).drop(index=[0,1,2,3], axis=0)\n\n\n#globals()[\"crime_data_q{}_{}\".format(1,2019)]=globals()[\"crime_data_q{}_{}\".format(1,2019)].drop(index=[1158], axis=0)\n#globals()[\"crime_data_q{}_{}\".format(1,2016)]=globals()[\"crime_data_q{}_{}\".format(1,2016)].drop(index=[1158], axis=0)\n\nfor i in range(1,5):\n    for j in range(2015,2021):\n        globals()[\"crime_data_q{}_{}\".format(i,j)].columns.values[4] = \"MURDER\"\n        globals()[\"crime_data_q{}_{}\".format(i,j)][\"SIZE (ACRES)\"] = globals()[\"crime_data_q{}_{}\".format(i,j)][\"SIZE (ACRES)\"].fillna(0)\n        globals()[\"crime_data_q{}_{}\".format(i,j)][\"SIZE (ACRES)\"]=globals()[\"crime_data_q{}_{}\".format(i,j)][\"SIZE (ACRES)\"].astype(float)\n        globals()[\"crime_data_q{}_{}\".format(i,j)][\"MURDER\"]=globals()[\"crime_data_q{}_{}\".format(i,j)][\"MURDER\"].astype(int)\n        globals()[\"crime_data_q{}_{}\".format(i,j)][\"RAPE\"]=globals()[\"crime_data_q{}_{}\".format(i,j)][\"RAPE\"].astype(int)\n        globals()[\"crime_data_q{}_{}\".format(i,j)][\"ROBBERY\"]=globals()[\"crime_data_q{}_{}\".format(i,j)][\"ROBBERY\"].astype(int)\n        globals()[\"crime_data_q{}_{}\".format(i,j)][\"FELONY ASSAULT\"]=globals()[\"crime_data_q{}_{}\".format(i,j)][\"FELONY ASSAULT\"].astype(int)\n        globals()[\"crime_data_q{}_{}\".format(i,j)][\"BURGLARY\"]=globals()[\"crime_data_q{}_{}\".format(i,j)][\"BURGLARY\"].astype(int)\n        globals()[\"crime_data_q{}_{}\".format(i,j)][\"GRAND LARCENY\"]=globals()[\"crime_data_q{}_{}\".format(i,j)][\"GRAND LARCENY\"].astype(int)\n        globals()[\"crime_data_q{}_{}\".format(i,j)][\"GRAND LARCENY OF MOTOR VEHICLE\"]=globals()[\"crime_data_q{}_{}\".format(i,j)][\"GRAND LARCENY OF MOTOR VEHICLE\"].astype(int)\n        globals()[\"crime_data_q{}_{}\".format(i,j)][\"TOTAL\"]=globals()[\"crime_data_q{}_{}\".format(i,j)][\"TOTAL\"].astype(int)\n\nfor i in range(1,5):\n    for j in range(2015,2021):\n        globals()[\"crime_data_q{}_{}\".format(i,j)]=globals()[\"crime_data_q{}_{}\".format(i,j)].sort_values(by=\"SIZE (ACRES)\", ascending=False).reset_index(drop=True)\n"
        },
        {
            "cell_type": "code",
            "execution_count": null,
            "metadata": {},
            "outputs": [],
            "source": "for i in range(1,5):\n    for j in range(2015,2021):\n        sum =globals()[\"crime_data_q{}_{}\".format(i,j)].loc[:,\"MURDER\":\"TOTAL\"] + globals()[\"crime_data_q{}_{}\".format(i,j)].loc[:,\"MURDER\":\"TOTAL\"] + globals()[\"crime_data_q{}_{}\".format(i,j)].loc[:,\"MURDER\":\"TOTAL\"]+ globals()[\"crime_data_q{}_{}\".format(i,j)].loc[:,\"MURDER\":\"TOTAL\"]\n        globals()[\"crime_data_{}\".format(j)]= globals()[\"crime_data_q{}_{}\".format(i,j)].loc[:,\"PARK\":\"CATEGORY\"].join(sum)\n        globals()[\"crime_data_{}\".format(j)]=globals()[\"crime_data_{}\".format(j)].drop(index=1154)"
        },
        {
            "cell_type": "code",
            "execution_count": null,
            "metadata": {},
            "outputs": [],
            "source": "from geopy.geocoders import Nominatim # convert an address into latitude and longitude values\n#!conda install -c conda-forge folium=0.5.0 --yes\n#import folium # map rendering library"
        },
        {
            "cell_type": "code",
            "execution_count": null,
            "metadata": {},
            "outputs": [],
            "source": "latitude=[]\nlongitude=[]\n\ncrime_data_2020[\"PARK\"]=crime_data_2020[\"PARK\"].astype(str)\nfor i in crime_data_2020[\"PARK\"]:\n    try:\n        address = str(i)+\", NY\"\n        geolocator = Nominatim(user_agent=\"MU_explorer\")\n        location = geolocator.geocode(address)\n        latitude.append(location.latitude)\n        longitude.append(location.longitude)\n    except AttributeError as Error:\n        latitude.append(np.nan)\n        longitude.append(np.nan)"
        },
        {
            "cell_type": "code",
            "execution_count": 14,
            "metadata": {},
            "outputs": [
                {
                    "ename": "NameError",
                    "evalue": "name 'latitude' is not defined",
                    "output_type": "error",
                    "traceback": [
                        "\u001b[0;31m---------------------------------------------------------------------------\u001b[0m",
                        "\u001b[0;31mNameError\u001b[0m                                 Traceback (most recent call last)",
                        "\u001b[0;32m<ipython-input-14-545e09a8e1e7>\u001b[0m in \u001b[0;36m<module>\u001b[0;34m\u001b[0m\n\u001b[1;32m      1\u001b[0m \u001b[0;31m#crime_data_2020[\"LATITUDE\",\"LONGITUDE\"]=[latitude,longitude]\u001b[0m\u001b[0;34m\u001b[0m\u001b[0;34m\u001b[0m\u001b[0;34m\u001b[0m\u001b[0m\n\u001b[0;32m----> 2\u001b[0;31m \u001b[0mlat\u001b[0m\u001b[0;34m=\u001b[0m\u001b[0mpd\u001b[0m\u001b[0;34m.\u001b[0m\u001b[0mDataFrame\u001b[0m\u001b[0;34m(\u001b[0m\u001b[0mlatitude\u001b[0m\u001b[0;34m)\u001b[0m\u001b[0;34m.\u001b[0m\u001b[0mrename\u001b[0m\u001b[0;34m(\u001b[0m\u001b[0mcolumns\u001b[0m\u001b[0;34m=\u001b[0m\u001b[0;34m{\u001b[0m\u001b[0;36m0\u001b[0m\u001b[0;34m:\u001b[0m\u001b[0;34m\"LATITUDE\"\u001b[0m\u001b[0;34m}\u001b[0m\u001b[0;34m)\u001b[0m\u001b[0;34m\u001b[0m\u001b[0;34m\u001b[0m\u001b[0m\n\u001b[0m\u001b[1;32m      3\u001b[0m \u001b[0mlon\u001b[0m\u001b[0;34m=\u001b[0m\u001b[0mpd\u001b[0m\u001b[0;34m.\u001b[0m\u001b[0mDataFrame\u001b[0m\u001b[0;34m(\u001b[0m\u001b[0mlongitude\u001b[0m\u001b[0;34m)\u001b[0m\u001b[0;34m.\u001b[0m\u001b[0mrename\u001b[0m\u001b[0;34m(\u001b[0m\u001b[0mcolumns\u001b[0m\u001b[0;34m=\u001b[0m\u001b[0;34m{\u001b[0m\u001b[0;36m0\u001b[0m\u001b[0;34m:\u001b[0m\u001b[0;34m\"LONGITUDE\"\u001b[0m\u001b[0;34m}\u001b[0m\u001b[0;34m)\u001b[0m\u001b[0;34m\u001b[0m\u001b[0;34m\u001b[0m\u001b[0m\n\u001b[1;32m      4\u001b[0m \u001b[0;32mfor\u001b[0m \u001b[0mj\u001b[0m \u001b[0;32min\u001b[0m \u001b[0mrange\u001b[0m\u001b[0;34m(\u001b[0m\u001b[0;36m2015\u001b[0m\u001b[0;34m,\u001b[0m\u001b[0;36m2021\u001b[0m\u001b[0;34m)\u001b[0m\u001b[0;34m:\u001b[0m\u001b[0;34m\u001b[0m\u001b[0;34m\u001b[0m\u001b[0m\n\u001b[1;32m      5\u001b[0m     \u001b[0mglobals\u001b[0m\u001b[0;34m(\u001b[0m\u001b[0;34m)\u001b[0m\u001b[0;34m[\u001b[0m\u001b[0;34m\"crime_data{}\"\u001b[0m\u001b[0;34m.\u001b[0m\u001b[0mformat\u001b[0m\u001b[0;34m(\u001b[0m\u001b[0mj\u001b[0m\u001b[0;34m)\u001b[0m\u001b[0;34m]\u001b[0m\u001b[0;34m=\u001b[0m\u001b[0mglobals\u001b[0m\u001b[0;34m(\u001b[0m\u001b[0;34m)\u001b[0m\u001b[0;34m[\u001b[0m\u001b[0;34m\"crime_data_{}\"\u001b[0m\u001b[0;34m.\u001b[0m\u001b[0mformat\u001b[0m\u001b[0;34m(\u001b[0m\u001b[0mj\u001b[0m\u001b[0;34m)\u001b[0m\u001b[0;34m]\u001b[0m\u001b[0;34m.\u001b[0m\u001b[0mjoin\u001b[0m\u001b[0;34m(\u001b[0m\u001b[0;34m[\u001b[0m\u001b[0mlat\u001b[0m\u001b[0;34m,\u001b[0m\u001b[0mlon\u001b[0m\u001b[0;34m]\u001b[0m\u001b[0;34m)\u001b[0m\u001b[0;34m.\u001b[0m\u001b[0mdropna\u001b[0m\u001b[0;34m(\u001b[0m\u001b[0;34m)\u001b[0m\u001b[0;34m.\u001b[0m\u001b[0mreset_index\u001b[0m\u001b[0;34m(\u001b[0m\u001b[0mdrop\u001b[0m\u001b[0;34m=\u001b[0m\u001b[0;32mTrue\u001b[0m\u001b[0;34m)\u001b[0m\u001b[0;34m\u001b[0m\u001b[0;34m\u001b[0m\u001b[0m\n",
                        "\u001b[0;31mNameError\u001b[0m: name 'latitude' is not defined"
                    ]
                }
            ],
            "source": "#crime_data_2020[\"LATITUDE\",\"LONGITUDE\"]=[latitude,longitude]\nlat=pd.DataFrame(latitude).rename(columns={0:\"LATITUDE\"})\nlon=pd.DataFrame(longitude).rename(columns={0:\"LONGITUDE\"})\nfor j in range(2015,2021):\n    globals()[\"crime_data{}\".format(j)]=globals()[\"crime_data_{}\".format(j)].join([lat,lon]).dropna().reset_index(drop=True)"
        },
        {
            "cell_type": "code",
            "execution_count": null,
            "metadata": {},
            "outputs": [],
            "source": "#for j in range(2015,2021):\n    #globals()[\"crime_data{}\".format(j)]=globals()[\"crime_data_{}\".format(j)].dropna().reset_index(drop=True)"
        },
        {
            "cell_type": "code",
            "execution_count": null,
            "metadata": {},
            "outputs": [],
            "source": "crime_data2020"
        },
        {
            "cell_type": "code",
            "execution_count": null,
            "metadata": {},
            "outputs": [],
            "source": "address = 'New York, NY'\n\ngeolocator = Nominatim(user_agent=\"ny_explorer\")\nlocation = geolocator.geocode(address)\nlatitude = location.latitude\nlongitude = location.longitude\nprint('The geograpical coordinate of New York are {}, {}.'.format(latitude, longitude))"
        },
        {
            "cell_type": "code",
            "execution_count": null,
            "metadata": {},
            "outputs": [],
            "source": "#location of all parks and playgrounds\nmap_NY = folium.Map(location=[latitude, longitude], zoom_start=11)\n\n# add markers to map\nfor lat, lng, label in zip(crime_data2020['LATITUDE'], crime_data2020['LONGITUDE'], crime_data2020['PARK']):\n    label_1 = folium.Popup(str(label), parse_html=True)\n    folium.CircleMarker(\n        [lat, lng],\n        radius=2,\n        popup=label_1,\n        color='blue',\n        fill=True,\n        fill_color='#3186cc',\n        fill_opacity=0.7,\n        parse_html=False).add_to(map_NY)  \n    \nmap_NY"
        },
        {
            "cell_type": "code",
            "execution_count": null,
            "metadata": {},
            "outputs": [],
            "source": "#location of all crimes in parks and playgrounds\nmap_NY = folium.Map(location=[latitude, longitude], zoom_start=11)\n\n# add markers to map\nfor lat, lng, label,total in zip(crime2020['LATITUDE'], crime2020['LONGITUDE'], crime2020['PARK'],crime2020['TOTAL']):\n    label_1 = folium.Popup(str(label), parse_html=True)\n    folium.CircleMarker(\n        [lat, lng],\n        radius=2*math.log(float(total)),\n        popup=label_1,\n        color='red',\n        fill=True,\n        fill_color=None,\n        fill_opacity=0.7,\n        parse_html=False).add_to(map_NY)  \n    \nmap_NY"
        },
        {
            "cell_type": "code",
            "execution_count": null,
            "metadata": {},
            "outputs": [],
            "source": "map_years"
        },
        {
            "cell_type": "code",
            "execution_count": null,
            "metadata": {},
            "outputs": [],
            "source": "crime2020=crime_data2020.loc[crime_data2020[\"TOTAL\"]>0]\ncrime2020.shape"
        },
        {
            "cell_type": "code",
            "execution_count": 16,
            "metadata": {},
            "outputs": [
                {
                    "ename": "AttributeError",
                    "evalue": "'NoneType' object has no attribute 'items'",
                    "output_type": "error",
                    "traceback": [
                        "\u001b[0;31m---------------------------------------------------------------------------\u001b[0m",
                        "\u001b[0;31mAttributeError\u001b[0m                            Traceback (most recent call last)",
                        "\u001b[0;32m/opt/conda/envs/Python-3.7-main/lib/python3.7/site-packages/IPython/core/formatters.py\u001b[0m in \u001b[0;36m__call__\u001b[0;34m(self, obj)\u001b[0m\n\u001b[1;32m    343\u001b[0m             \u001b[0mmethod\u001b[0m \u001b[0;34m=\u001b[0m \u001b[0mget_real_method\u001b[0m\u001b[0;34m(\u001b[0m\u001b[0mobj\u001b[0m\u001b[0;34m,\u001b[0m \u001b[0mself\u001b[0m\u001b[0;34m.\u001b[0m\u001b[0mprint_method\u001b[0m\u001b[0;34m)\u001b[0m\u001b[0;34m\u001b[0m\u001b[0;34m\u001b[0m\u001b[0m\n\u001b[1;32m    344\u001b[0m             \u001b[0;32mif\u001b[0m \u001b[0mmethod\u001b[0m \u001b[0;32mis\u001b[0m \u001b[0;32mnot\u001b[0m \u001b[0;32mNone\u001b[0m\u001b[0;34m:\u001b[0m\u001b[0;34m\u001b[0m\u001b[0;34m\u001b[0m\u001b[0m\n\u001b[0;32m--> 345\u001b[0;31m                 \u001b[0;32mreturn\u001b[0m \u001b[0mmethod\u001b[0m\u001b[0;34m(\u001b[0m\u001b[0;34m)\u001b[0m\u001b[0;34m\u001b[0m\u001b[0;34m\u001b[0m\u001b[0m\n\u001b[0m\u001b[1;32m    346\u001b[0m             \u001b[0;32mreturn\u001b[0m \u001b[0;32mNone\u001b[0m\u001b[0;34m\u001b[0m\u001b[0;34m\u001b[0m\u001b[0m\n\u001b[1;32m    347\u001b[0m         \u001b[0;32melse\u001b[0m\u001b[0;34m:\u001b[0m\u001b[0;34m\u001b[0m\u001b[0;34m\u001b[0m\u001b[0m\n",
                        "\u001b[0;32m/opt/conda/envs/Python-3.7-main/lib/python3.7/site-packages/pandas/core/frame.py\u001b[0m in \u001b[0;36m_repr_html_\u001b[0;34m(self)\u001b[0m\n\u001b[1;32m    732\u001b[0m             \u001b[0;31m# Argument 1 to \"ensure_index\" has incompatible type \"Collection[Any]\";\u001b[0m\u001b[0;34m\u001b[0m\u001b[0;34m\u001b[0m\u001b[0;34m\u001b[0m\u001b[0m\n\u001b[1;32m    733\u001b[0m             \u001b[0;31m# expected \"Union[Union[Union[ExtensionArray, ndarray],\u001b[0m\u001b[0;34m\u001b[0m\u001b[0;34m\u001b[0m\u001b[0;34m\u001b[0m\u001b[0m\n\u001b[0;32m--> 734\u001b[0;31m             \u001b[0;31m# Index, Series], Sequence[Any]]\"\u001b[0m\u001b[0;34m\u001b[0m\u001b[0;34m\u001b[0m\u001b[0;34m\u001b[0m\u001b[0m\n\u001b[0m\u001b[1;32m    735\u001b[0m             \u001b[0mindex\u001b[0m \u001b[0;34m=\u001b[0m \u001b[0mensure_index\u001b[0m\u001b[0;34m(\u001b[0m\u001b[0mindex\u001b[0m\u001b[0;34m)\u001b[0m  \u001b[0;31m# type: ignore[arg-type]\u001b[0m\u001b[0;34m\u001b[0m\u001b[0;34m\u001b[0m\u001b[0m\n\u001b[1;32m    736\u001b[0m             \u001b[0;31m# Argument 1 to \"ensure_index\" has incompatible type \"Collection[Any]\";\u001b[0m\u001b[0;34m\u001b[0m\u001b[0;34m\u001b[0m\u001b[0;34m\u001b[0m\u001b[0m\n",
                        "\u001b[0;32m/opt/conda/envs/Python-3.7-main/lib/python3.7/site-packages/pandas/io/formats/format.py\u001b[0m in \u001b[0;36mto_html\u001b[0;34m(self, buf, encoding, classes, notebook, border)\u001b[0m\n\u001b[1;32m    980\u001b[0m         \u001b[0mstring\u001b[0m \u001b[0;34m=\u001b[0m \u001b[0mlatex_formatter\u001b[0m\u001b[0;34m.\u001b[0m\u001b[0mto_string\u001b[0m\u001b[0;34m(\u001b[0m\u001b[0;34m)\u001b[0m\u001b[0;34m\u001b[0m\u001b[0;34m\u001b[0m\u001b[0m\n\u001b[1;32m    981\u001b[0m         \u001b[0;32mreturn\u001b[0m \u001b[0msave_to_buffer\u001b[0m\u001b[0;34m(\u001b[0m\u001b[0mstring\u001b[0m\u001b[0;34m,\u001b[0m \u001b[0mbuf\u001b[0m\u001b[0;34m=\u001b[0m\u001b[0mbuf\u001b[0m\u001b[0;34m,\u001b[0m \u001b[0mencoding\u001b[0m\u001b[0;34m=\u001b[0m\u001b[0mencoding\u001b[0m\u001b[0;34m)\u001b[0m\u001b[0;34m\u001b[0m\u001b[0;34m\u001b[0m\u001b[0m\n\u001b[0;32m--> 982\u001b[0;31m \u001b[0;34m\u001b[0m\u001b[0m\n\u001b[0m\u001b[1;32m    983\u001b[0m     def to_html(\n\u001b[1;32m    984\u001b[0m         \u001b[0mself\u001b[0m\u001b[0;34m,\u001b[0m\u001b[0;34m\u001b[0m\u001b[0;34m\u001b[0m\u001b[0m\n",
                        "\u001b[0;32m/opt/conda/envs/Python-3.7-main/lib/python3.7/site-packages/pandas/io/formats/html.py\u001b[0m in \u001b[0;36m__init__\u001b[0;34m(self, formatter, classes, border, table_id, render_links)\u001b[0m\n\u001b[1;32m     66\u001b[0m         self.col_space = {\n\u001b[1;32m     67\u001b[0m             \u001b[0mcolumn\u001b[0m\u001b[0;34m:\u001b[0m \u001b[0;34mf\"{value}px\"\u001b[0m \u001b[0;32mif\u001b[0m \u001b[0misinstance\u001b[0m\u001b[0;34m(\u001b[0m\u001b[0mvalue\u001b[0m\u001b[0;34m,\u001b[0m \u001b[0mint\u001b[0m\u001b[0;34m)\u001b[0m \u001b[0;32melse\u001b[0m \u001b[0mvalue\u001b[0m\u001b[0;34m\u001b[0m\u001b[0;34m\u001b[0m\u001b[0m\n\u001b[0;32m---> 68\u001b[0;31m             \u001b[0;32mfor\u001b[0m \u001b[0mcolumn\u001b[0m\u001b[0;34m,\u001b[0m \u001b[0mvalue\u001b[0m \u001b[0;32min\u001b[0m \u001b[0mself\u001b[0m\u001b[0;34m.\u001b[0m\u001b[0mfmt\u001b[0m\u001b[0;34m.\u001b[0m\u001b[0mcol_space\u001b[0m\u001b[0;34m.\u001b[0m\u001b[0mitems\u001b[0m\u001b[0;34m(\u001b[0m\u001b[0;34m)\u001b[0m\u001b[0;34m\u001b[0m\u001b[0;34m\u001b[0m\u001b[0m\n\u001b[0m\u001b[1;32m     69\u001b[0m         }\n\u001b[1;32m     70\u001b[0m \u001b[0;34m\u001b[0m\u001b[0m\n",
                        "\u001b[0;31mAttributeError\u001b[0m: 'NoneType' object has no attribute 'items'"
                    ]
                },
                {
                    "data": {
                        "text/plain": "                              PARK        BOROUGH SIZE (ACRES)  \\\n3                  PELHAM BAY PARK  BRONX             2771.747   \n4               VAN CORTLANDT PARK  BRONX             1146.430   \n5     ROCKAWAY BEACH AND BOARDWALK  QUEENS            1072.564   \n6                  FRESHKILLS PARK  STATEN ISLAND      913.320   \n7     FLUSHING MEADOWS CORONA PARK  QUEENS             897.690   \n...                            ...            ...          ...   \n1153              MOHEGAN TRIANGLE  BRONX                0.096   \n1154    PLAYGROUND OF THE AMERICAS  MANHATTAN            0.079   \n1155     PRIVATE WILLIAM GRAY PARK  QUEENS               0.069   \n1156         ADRIENNE'S PLAYGROUND  MANHATTAN            0.000   \n1157                         TOTAL            NaN          NaN   \n\n                           CATEGORY MURDER RAPE ROBBERY FELONY ASSAULT  \\\n3                ONE ACRE OR LARGER      0    0       0              0   \n4                ONE ACRE OR LARGER      0    0       0              0   \n5                ONE ACRE OR LARGER      0    0       0              0   \n6                ONE ACRE OR LARGER      0    0       0              0   \n7                ONE ACRE OR LARGER      0    0       1              1   \n...                             ...    ...  ...     ...            ...   \n1153  PLAYGROUND LESS THAN ONE ACRE      0    0       0              0   \n1154  PLAYGROUND LESS THAN ONE ACRE      0    0       0              0   \n1155  PLAYGROUND LESS THAN ONE ACRE      0    0       0              0   \n1156  PLAYGROUND LESS THAN ONE ACRE      0    0       0              0   \n1157                            NaN      3    6      53             33   \n\n     BURGLARY GRAND LARCENY GRAND LARCENY OF MOTOR VEHICLE TOTAL  \n3           0             0                              0     0  \n4           0             1                              0     1  \n5           0             0                              0     0  \n6           0             0                              0     0  \n7           1             1                              0     4  \n...       ...           ...                            ...   ...  \n1153        0             0                              0     0  \n1154        0             0                              0     0  \n1155        0             0                              0     0  \n1156        0             0                              0     0  \n1157       13            43                              1   152  \n\n[1155 rows x 12 columns]"
                    },
                    "execution_count": 16,
                    "metadata": {},
                    "output_type": "execute_result"
                }
            ],
            "source": "crime_data_q4_2020"
        },
        {
            "cell_type": "code",
            "execution_count": null,
            "metadata": {},
            "outputs": [],
            "source": ""
        }
    ],
    "metadata": {
        "kernelspec": {
            "display_name": "Python 3.7",
            "language": "python",
            "name": "python3"
        },
        "language_info": {
            "codemirror_mode": {
                "name": "ipython",
                "version": 3
            },
            "file_extension": ".py",
            "mimetype": "text/x-python",
            "name": "python",
            "nbconvert_exporter": "python",
            "pygments_lexer": "ipython3",
            "version": "3.7.10"
        }
    },
    "nbformat": 4,
    "nbformat_minor": 1
}